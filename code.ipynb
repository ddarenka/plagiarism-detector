{
 "cells": [
  {
   "cell_type": "code",
   "execution_count": 2,
   "metadata": {},
   "outputs": [
    {
     "name": "stderr",
     "output_type": "stream",
     "text": [
      "/Users/darinaponomarova/opt/anaconda3/lib/python3.9/site-packages/scipy/__init__.py:146: UserWarning: A NumPy version >=1.16.5 and <1.23.0 is required for this version of SciPy (detected version 1.26.2\n",
      "  warnings.warn(f\"A NumPy version >={np_minversion} and <{np_maxversion}\"\n",
      "[nltk_data] Downloading package punkt to\n",
      "[nltk_data]     /Users/darinaponomarova/nltk_data...\n",
      "[nltk_data]   Package punkt is already up-to-date!\n",
      "[nltk_data] Downloading package stopwords to\n",
      "[nltk_data]     /Users/darinaponomarova/nltk_data...\n",
      "[nltk_data]   Package stopwords is already up-to-date!\n"
     ]
    }
   ],
   "source": [
    "import pandas as pd\n",
    "\n",
    "from sklearn.feature_extraction.text import TfidfVectorizer\n",
    "from sklearn.metrics.pairwise import cosine_similarity\n",
    "\n",
    "from dataset_prep import create_total_dataframe\n",
    "from data_preprocessing import preprocess_text\n",
    "\n",
    "pd.set_option('display.max_rows', None)\n",
    "pd.set_option('display.max_columns', None)\n",
    "pd.set_option('display.max_colwidth', 1000)"
   ]
  },
  {
   "cell_type": "code",
   "execution_count": 3,
   "metadata": {},
   "outputs": [
    {
     "name": "stderr",
     "output_type": "stream",
     "text": [
      "/Users/darinaponomarova/Study/DiplomaMasters/dataset_prep.py:54: FutureWarning: Columnar iteration over characters will be deprecated in future releases.\n",
      "  df['Authors'], df['Article_Name'] = df['Article_Name'].str.rsplit('.', 1).str\n"
     ]
    }
   ],
   "source": [
    "all_docx = [\"data/2022_satellite.docx\", \"data/2021_satellite.docx\"]\n",
    "# all_docx = [\"data/2020_satellite.docx\"]\n",
    "\n",
    "total_df = create_total_dataframe(all_docx)"
   ]
  },
  {
   "cell_type": "code",
   "execution_count": 4,
   "metadata": {},
   "outputs": [],
   "source": [
    "total_df['Processed_Text'] = total_df['Text'].apply(preprocess_text)"
   ]
  },
  {
   "cell_type": "code",
   "execution_count": 5,
   "metadata": {},
   "outputs": [],
   "source": [
    "total_df.reset_index(inplace=True)\n",
    "total_df.index = total_df.index + 1\n",
    "total_df['Article_ID'] = total_df.index"
   ]
  },
  {
   "cell_type": "code",
   "execution_count": 6,
   "metadata": {},
   "outputs": [],
   "source": [
    "# total_df.head()"
   ]
  },
  {
   "cell_type": "code",
   "execution_count": 7,
   "metadata": {},
   "outputs": [],
   "source": [
    "file_path = 'data/my_dataset.csv'\n",
    "\n",
    "# Save the DataFrame to a CSV file\n",
    "total_df.to_csv(file_path, index=False)"
   ]
  },
  {
   "cell_type": "markdown",
   "metadata": {},
   "source": [
    "___"
   ]
  },
  {
   "cell_type": "code",
   "execution_count": 8,
   "metadata": {},
   "outputs": [
    {
     "data": {
      "text/html": [
       "<div>\n",
       "<style scoped>\n",
       "    .dataframe tbody tr th:only-of-type {\n",
       "        vertical-align: middle;\n",
       "    }\n",
       "\n",
       "    .dataframe tbody tr th {\n",
       "        vertical-align: top;\n",
       "    }\n",
       "\n",
       "    .dataframe thead th {\n",
       "        text-align: right;\n",
       "    }\n",
       "</style>\n",
       "<table border=\"1\" class=\"dataframe\">\n",
       "  <thead>\n",
       "    <tr style=\"text-align: right;\">\n",
       "      <th></th>\n",
       "      <th>index</th>\n",
       "      <th>Article_Name</th>\n",
       "      <th>Page</th>\n",
       "      <th>Authors</th>\n",
       "      <th>Text</th>\n",
       "      <th>Processed_Text</th>\n",
       "      <th>Article_ID</th>\n",
       "    </tr>\n",
       "  </thead>\n",
       "  <tbody>\n",
       "    <tr>\n",
       "      <th>8</th>\n",
       "      <td>7</td>\n",
       "      <td>Possibilities of Project Management Using Artificial Intelligence</td>\n",
       "      <td>30</td>\n",
       "      <td>Chyzhenko V., Kubiavka L.</td>\n",
       "      <td>Abstracts. The world is currently undergoing many changes as technology continues to evolve to improve people's lives. Technological progress has made things that seemed impossible in the last decade a part of modern life. All industries are using technology to improve efficiency and effectiveness while making management reliable, secure and interoperable. The integration of human capabilities and technological systems increases productivity and ensures continuous improvement. The combination of technology and human capabilities is also used for project management. Keywords: technological processes, artificial intelligence, project management, automation, integration of human capabilities and technical systems. Introduction. As the use of AI in organizations continues to grow and its benefits remain significant even during the COVID-19 pandemic, it is important for project managers to understand where AI can have the greatest impact. Better decision-making and more accurate foreca...</td>\n",
       "      <td>abstract world current undergo mani chang technolog continu evolv improv peopl live technolog progress made thing seem imposs last decad part modern life industri use technolog improv effici effect make manag reliabl secur interoper integr human capabl technolog system increas product ensur continu improv combin technolog human capabl also use project manag technolog process artifici intellig project manag autom integr human capabl technic system introduct use ai organ continu grow benefit remain signific even covid pandem import project manag understand ai greatest impact better decis make accur forecast project complet date one constant task project manag collect suffici accur date inform make inform decis abil artifici intellig process huge data set real time chang organiz mindset help bridg gap facilit decis make process abil connect differ type inform find problem peopl would otherwis miss real turn point project manag ai potenti detect real time anomali dataset alert manag pr...</td>\n",
       "      <td>8</td>\n",
       "    </tr>\n",
       "  </tbody>\n",
       "</table>\n",
       "</div>"
      ],
      "text/plain": [
       "   index                                                       Article_Name  \\\n",
       "8      7  Possibilities of Project Management Using Artificial Intelligence   \n",
       "\n",
       "  Page                    Authors  \\\n",
       "8   30  Chyzhenko V., Kubiavka L.   \n",
       "\n",
       "                                                                                                                                                                                                                                                                                                                                                                                                                                                                                                                                                                                                                                                                                                                                                                                                                                                                                                                                                                                                                                      Text  \\\n",
       "8   Abstracts. The world is currently undergoing many changes as technology continues to evolve to improve people's lives. Technological progress has made things that seemed impossible in the last decade a part of modern life. All industries are using technology to improve efficiency and effectiveness while making management reliable, secure and interoperable. The integration of human capabilities and technological systems increases productivity and ensures continuous improvement. The combination of technology and human capabilities is also used for project management. Keywords: technological processes, artificial intelligence, project management, automation, integration of human capabilities and technical systems. Introduction. As the use of AI in organizations continues to grow and its benefits remain significant even during the COVID-19 pandemic, it is important for project managers to understand where AI can have the greatest impact. Better decision-making and more accurate foreca...   \n",
       "\n",
       "                                                                                                                                                                                                                                                                                                                                                                                                                                                                                                                                                                                                                                                                                                                                                                                                                                                                                                                                                                                                                            Processed_Text  \\\n",
       "8  abstract world current undergo mani chang technolog continu evolv improv peopl live technolog progress made thing seem imposs last decad part modern life industri use technolog improv effici effect make manag reliabl secur interoper integr human capabl technolog system increas product ensur continu improv combin technolog human capabl also use project manag technolog process artifici intellig project manag autom integr human capabl technic system introduct use ai organ continu grow benefit remain signific even covid pandem import project manag understand ai greatest impact better decis make accur forecast project complet date one constant task project manag collect suffici accur date inform make inform decis abil artifici intellig process huge data set real time chang organiz mindset help bridg gap facilit decis make process abil connect differ type inform find problem peopl would otherwis miss real turn point project manag ai potenti detect real time anomali dataset alert manag pr...   \n",
       "\n",
       "   Article_ID  \n",
       "8           8  "
      ]
     },
     "execution_count": 8,
     "metadata": {},
     "output_type": "execute_result"
    }
   ],
   "source": [
    "total_df[total_df['Article_Name'] == 'Possibilities of Project Management Using Artificial Intelligence']"
   ]
  },
  {
   "cell_type": "code",
   "execution_count": 9,
   "metadata": {},
   "outputs": [],
   "source": [
    "# input text:\n",
    "# input_text = \"This ability to process massive datasets ensures that issues and dependencies that would otherwise go unnoticed are captured during modeling and improve the quality of the proposed mitigation plan.\"\n",
    "input_text = \"Resource management and capacity planning. Artificial intelligence systems enable project managers to better execute future projects through more efficient allocation of resources. As a result, organizations can anticipate needs and adapt schedules accordingly. The ideal AI system will assist project managers with capacity planning strategies that consider all relevant aspects of the project, including manpower, facilities, schedules, budgets and supplies. A byproduct of this advanced planning is a happier workforce as tasks are delegated based on past performance and overall capacity employee AI can help improve the processes used to manage people, including: calculation of the best distribution of resources and forecasting the deficit or surplus of resources; determination of the right skills for the right job; providing feedback on the implementation of the project; determination of special training for a specific employee; increasing the productivity of capital (reducing obstacles for employees can have a significant impact on the company's efficiency\"\n",
    "input_text = preprocess_text(input_text)"
   ]
  },
  {
   "cell_type": "markdown",
   "metadata": {},
   "source": [
    "### Standard TF-IDF:"
   ]
  },
  {
   "cell_type": "code",
   "execution_count": 10,
   "metadata": {},
   "outputs": [],
   "source": [
    "# vectorize:\n",
    "vectorizer = TfidfVectorizer(smooth_idf=True)\n",
    "# vectorizer = TfidfVectorizer(ngram_range=(1,5))\n",
    "\n",
    "corpus_tfidf = vectorizer.fit_transform(total_df['Processed_Text'])"
   ]
  },
  {
   "cell_type": "code",
   "execution_count": 11,
   "metadata": {},
   "outputs": [],
   "source": [
    "provided_text_tfidf = vectorizer.transform([input_text])\n",
    "cosine_similarities = cosine_similarity(provided_text_tfidf, corpus_tfidf)"
   ]
  },
  {
   "cell_type": "code",
   "execution_count": 12,
   "metadata": {},
   "outputs": [
    {
     "name": "stdout",
     "output_type": "stream",
     "text": [
      "Document 'Possibilities of Project Management Using Artificial Intelligence' is similar with a score of 0.6318895571816717\n"
     ]
    }
   ],
   "source": [
    "threshold = 0.5\n",
    "\n",
    "for idx, similarity in enumerate(cosine_similarities[0]):\n",
    "    if similarity > threshold:\n",
    "        print(f\"Document '{total_df.iloc[idx]['Article_Name']}' is similar with a score of {similarity}\")"
   ]
  },
  {
   "cell_type": "markdown",
   "metadata": {},
   "source": [
    "### N-gram TF-IDF:"
   ]
  },
  {
   "cell_type": "code",
   "execution_count": 13,
   "metadata": {},
   "outputs": [],
   "source": [
    "# vectorize:\n",
    "vectorizer = TfidfVectorizer(ngram_range=(2,5))\n",
    "\n",
    "corpus_tfidf = vectorizer.fit_transform(total_df['Processed_Text'])"
   ]
  },
  {
   "cell_type": "code",
   "execution_count": 14,
   "metadata": {},
   "outputs": [],
   "source": [
    "provided_text_tfidf = vectorizer.transform([input_text])\n",
    "cosine_similarities = cosine_similarity(provided_text_tfidf, corpus_tfidf)"
   ]
  },
  {
   "cell_type": "code",
   "execution_count": 15,
   "metadata": {},
   "outputs": [
    {
     "name": "stdout",
     "output_type": "stream",
     "text": [
      "Document 'Possibilities of Project Management Using Artificial Intelligence' is similar with a score of 0.40849840966272727\n"
     ]
    }
   ],
   "source": [
    "threshold = 0.1\n",
    "\n",
    "for idx, similarity in enumerate(cosine_similarities[0]):\n",
    "    if similarity > threshold:\n",
    "        print(f\"Document '{total_df.iloc[idx]['Article_Name']}' is similar with a score of {similarity}\")"
   ]
  },
  {
   "cell_type": "markdown",
   "metadata": {},
   "source": [
    "#### SequenceMatcher() test:"
   ]
  },
  {
   "cell_type": "code",
   "execution_count": 16,
   "metadata": {},
   "outputs": [
    {
     "name": "stdout",
     "output_type": "stream",
     "text": [
      "Similarity score: 0.2895303748384317\n"
     ]
    }
   ],
   "source": [
    "from difflib import SequenceMatcher\n",
    "\n",
    "def similarity(a, b):\n",
    "    return SequenceMatcher(None, a, b).ratio()\n",
    "\n",
    "text_from_article = total_df[total_df['Article_Name'] == 'Possibilities of Project Management Using Artificial Intelligence']['Processed_Text'].iloc[0]\n",
    "similarity_score = similarity(input_text, text_from_article)\n",
    "\n",
    "print(f\"Similarity score: {similarity_score}\")"
   ]
  },
  {
   "cell_type": "markdown",
   "metadata": {},
   "source": [
    "___"
   ]
  }
 ],
 "metadata": {
  "kernelspec": {
   "display_name": "jupyter_venv",
   "language": "python",
   "name": "jupyter_venv"
  },
  "language_info": {
   "codemirror_mode": {
    "name": "ipython",
    "version": 3
   },
   "file_extension": ".py",
   "mimetype": "text/x-python",
   "name": "python",
   "nbconvert_exporter": "python",
   "pygments_lexer": "ipython3",
   "version": "3.9.7"
  }
 },
 "nbformat": 4,
 "nbformat_minor": 2
}
