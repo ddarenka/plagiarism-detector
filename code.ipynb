{
 "cells": [
  {
   "cell_type": "code",
   "execution_count": 1,
   "metadata": {},
   "outputs": [],
   "source": [
    "import docx\n",
    "import pandas as pd\n",
    "from dataset_prep import extract_text_from_docx, extract_data_from_table, process_contents_df, articles_text_to_df\n",
    "\n",
    "pd.set_option('display.max_rows', None)\n",
    "pd.set_option('display.max_columns', None)\n",
    "pd.set_option('display.max_colwidth', 500)"
   ]
  },
  {
   "cell_type": "code",
   "execution_count": 3,
   "metadata": {},
   "outputs": [
    {
     "name": "stderr",
     "output_type": "stream",
     "text": [
      "/Users/darinaponomarova/Study/DiplomaMasters/dataset_prep.py:54: FutureWarning: Columnar iteration over characters will be deprecated in future releases.\n",
      "  df['Authors'], df['Article_Name'] = df['Article_Name'].str.rsplit('.', 1).str\n"
     ]
    }
   ],
   "source": [
    "all_docx = [\"data/2022_satellite.docx\", \"data/2021_satellite.docx\"]\n",
    "\n",
    "# all_docx = [\"data/2020_satellite.docx\"]\n",
    "\n",
    "total_df = pd.DataFrame()\n",
    "\n",
    "for docx_path in all_docx:\n",
    "    text_from_docx = extract_text_from_docx(docx_path)\n",
    "\n",
    "    if '2022' in docx_path:\n",
    "        marker = ['Authors', '180']\n",
    "    elif '2021' in docx_path:\n",
    "        marker = ['Figure 1: Centralized network', 'Figure 2: Decentralized network']\n",
    "    else:\n",
    "        marker = None\n",
    "\n",
    "    contents_data = extract_data_from_table(docx_path, marker)\n",
    "    contents_df = process_contents_df(contents_data)\n",
    "    articles_df = articles_text_to_df(contents_df, text_from_docx)\n",
    "\n",
    "    total_df = pd.concat([total_df, articles_df], ignore_index=True)\n"
   ]
  },
  {
   "cell_type": "code",
   "execution_count": 4,
   "metadata": {},
   "outputs": [
    {
     "data": {
      "text/html": [
       "<div>\n",
       "<style scoped>\n",
       "    .dataframe tbody tr th:only-of-type {\n",
       "        vertical-align: middle;\n",
       "    }\n",
       "\n",
       "    .dataframe tbody tr th {\n",
       "        vertical-align: top;\n",
       "    }\n",
       "\n",
       "    .dataframe thead th {\n",
       "        text-align: right;\n",
       "    }\n",
       "</style>\n",
       "<table border=\"1\" class=\"dataframe\">\n",
       "  <thead>\n",
       "    <tr style=\"text-align: right;\">\n",
       "      <th></th>\n",
       "      <th>Article_Name</th>\n",
       "      <th>Page</th>\n",
       "      <th>Authors</th>\n",
       "      <th>Text</th>\n",
       "    </tr>\n",
       "  </thead>\n",
       "  <tbody>\n",
       "    <tr>\n",
       "      <th>0</th>\n",
       "      <td>Internet of Things Eco-System Concept for Healthy Eating</td>\n",
       "      <td>7</td>\n",
       "      <td>Avramenko К., Latysheva Т.</td>\n",
       "      <td>Abstract. A healthy lifestyle is a way of living that lower the risk of being ill or dying early. The article describes how the Internet of Things can improve everyday life, including nutrition and health monitoring. Keywords: Healthy Eating, nutrition, іnternet of Things, information technology, lifestyle INTRODUCTION Ukraine is among the top ten countries with the highest mortality risk from an unbalanced diet, according to a study by The Lancet magazine [1]. Among the main reasons are ex...</td>\n",
       "    </tr>\n",
       "    <tr>\n",
       "      <th>1</th>\n",
       "      <td>Development of a Mathematical Model Determination of the Proximity of Vectors in the Project-Vector Space</td>\n",
       "      <td>11</td>\n",
       "      <td>Biloshchytskyi A., Kuchansky A., Biloshchytska S., Andrashko Yu., Faizullin A.</td>\n",
       "      <td>As a result of the decomposition of the subject area, the classification of projects of educational environments is made, and the task of optimal management in the design-vector space is formulated. The research enables us to proceed to formalization of educational environment management processes. We will define the basic definition of this part of the research. Definition 1. By project-vector management of educational environments, we will understand the implementation of functions that e...</td>\n",
       "    </tr>\n",
       "    <tr>\n",
       "      <th>2</th>\n",
       "      <td>Investigation of the Algorithm of Near Search of the Compromise Median in the Problem of Collective Ranking of Objects</td>\n",
       "      <td>14</td>\n",
       "      <td>Bovsunovska M., Hnatiienko H.</td>\n",
       "      <td>Abstract. Many works are devoted to the problem of creating efficient algorithms for solving problems of high dimensionality, when the brute-force search methods become too time-consumin. This work is also devoted to the development of an efficient algorithm in the field of expert evaluation problems, namely, the algorithm for solving the problem of collective evaluation coordination. The main goal of this work is to implement in software the algorithm for the near search of the compromice ...</td>\n",
       "    </tr>\n",
       "    <tr>\n",
       "      <th>3</th>\n",
       "      <td>Analysis of Host Detection Methods</td>\n",
       "      <td>18</td>\n",
       "      <td>Buchyk S., Saroka S.</td>\n",
       "      <td>Abstract. New malicious software fills the Internet every day. In this regard, the protection of personal data is currently an important task. The first stage of many computer attacks is intelligence, and one of its mechanisms is port scanning, which allows an attacker to find out which services are running on the desired system. It means that in the future it can prepare and conduct an attack against the detected services and their vulnerabilities. This article provides an information and ...</td>\n",
       "    </tr>\n",
       "    <tr>\n",
       "      <th>4</th>\n",
       "      <td>Symmetric Encryption of Messages Based on the Use of Images</td>\n",
       "      <td>21</td>\n",
       "      <td>Buchyk S., Tsapro D.</td>\n",
       "      <td>Abstract. This work is devoted to the problem of message transmission protection in an unsecured communication channel. It presents possible enhancements of message transmission protection by symmetric encryption creating image arrays using one-way math operations to mix public and private keys and a modified Diffie-Hellman method as a way to exchange private keys in an insecure channel. Keywords: images, Diffie–Hellman method, symmetric encryption, rgb. Nowadays the development of informat...</td>\n",
       "    </tr>\n",
       "  </tbody>\n",
       "</table>\n",
       "</div>"
      ],
      "text/plain": [
       "                                                                                                             Article_Name  \\\n",
       "0                                                                Internet of Things Eco-System Concept for Healthy Eating   \n",
       "1               Development of a Mathematical Model Determination of the Proximity of Vectors in the Project-Vector Space   \n",
       "2  Investigation of the Algorithm of Near Search of the Compromise Median in the Problem of Collective Ranking of Objects   \n",
       "3                                                                                      Analysis of Host Detection Methods   \n",
       "4                                                             Symmetric Encryption of Messages Based on the Use of Images   \n",
       "\n",
       "  Page  \\\n",
       "0    7   \n",
       "1   11   \n",
       "2   14   \n",
       "3   18   \n",
       "4   21   \n",
       "\n",
       "                                                                          Authors  \\\n",
       "0                                                      Avramenko К., Latysheva Т.   \n",
       "1  Biloshchytskyi A., Kuchansky A., Biloshchytska S., Andrashko Yu., Faizullin A.   \n",
       "2                                                   Bovsunovska M., Hnatiienko H.   \n",
       "3                                                            Buchyk S., Saroka S.   \n",
       "4                                                            Buchyk S., Tsapro D.   \n",
       "\n",
       "                                                                                                                                                                                                                                                                                                                                                                                                                                                                                                                  Text  \n",
       "0   Abstract. A healthy lifestyle is a way of living that lower the risk of being ill or dying early. The article describes how the Internet of Things can improve everyday life, including nutrition and health monitoring. Keywords: Healthy Eating, nutrition, іnternet of Things, information technology, lifestyle INTRODUCTION Ukraine is among the top ten countries with the highest mortality risk from an unbalanced diet, according to a study by The Lancet magazine [1]. Among the main reasons are ex...  \n",
       "1   As a result of the decomposition of the subject area, the classification of projects of educational environments is made, and the task of optimal management in the design-vector space is formulated. The research enables us to proceed to formalization of educational environment management processes. We will define the basic definition of this part of the research. Definition 1. By project-vector management of educational environments, we will understand the implementation of functions that e...  \n",
       "2   Abstract. Many works are devoted to the problem of creating efficient algorithms for solving problems of high dimensionality, when the brute-force search methods become too time-consumin. This work is also devoted to the development of an efficient algorithm in the field of expert evaluation problems, namely, the algorithm for solving the problem of collective evaluation coordination. The main goal of this work is to implement in software the algorithm for the near search of the compromice ...  \n",
       "3   Abstract. New malicious software fills the Internet every day. In this regard, the protection of personal data is currently an important task. The first stage of many computer attacks is intelligence, and one of its mechanisms is port scanning, which allows an attacker to find out which services are running on the desired system. It means that in the future it can prepare and conduct an attack against the detected services and their vulnerabilities. This article provides an information and ...  \n",
       "4   Abstract. This work is devoted to the problem of message transmission protection in an unsecured communication channel. It presents possible enhancements of message transmission protection by symmetric encryption creating image arrays using one-way math operations to mix public and private keys and a modified Diffie-Hellman method as a way to exchange private keys in an insecure channel. Keywords: images, Diffie–Hellman method, symmetric encryption, rgb. Nowadays the development of informat...  "
      ]
     },
     "execution_count": 4,
     "metadata": {},
     "output_type": "execute_result"
    }
   ],
   "source": [
    "total_df.head()"
   ]
  },
  {
   "cell_type": "code",
   "execution_count": null,
   "metadata": {},
   "outputs": [],
   "source": []
  }
 ],
 "metadata": {
  "kernelspec": {
   "display_name": "jupyter_venv",
   "language": "python",
   "name": "jupyter_venv"
  },
  "language_info": {
   "codemirror_mode": {
    "name": "ipython",
    "version": 3
   },
   "file_extension": ".py",
   "mimetype": "text/x-python",
   "name": "python",
   "nbconvert_exporter": "python",
   "pygments_lexer": "ipython3",
   "version": "3.9.7"
  }
 },
 "nbformat": 4,
 "nbformat_minor": 2
}
