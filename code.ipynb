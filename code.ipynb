{
 "cells": [
  {
   "cell_type": "code",
   "execution_count": 26,
   "metadata": {},
   "outputs": [],
   "source": [
    "import pandas as pd\n",
    "\n",
    "from sklearn.feature_extraction.text import TfidfVectorizer\n",
    "from sklearn.metrics.pairwise import cosine_similarity\n",
    "\n",
    "from dataset_prep import create_total_dataframe\n",
    "from data_preprocessing import preprocess_text\n",
    "\n",
    "pd.set_option('display.max_rows', None)\n",
    "pd.set_option('display.max_columns', None)\n",
    "pd.set_option('display.max_colwidth', 500000)"
   ]
  },
  {
   "cell_type": "code",
   "execution_count": 2,
   "metadata": {},
   "outputs": [
    {
     "name": "stderr",
     "output_type": "stream",
     "text": [
      "/Users/darinaponomarova/Study/DiplomaMasters/dataset_prep.py:54: FutureWarning: Columnar iteration over characters will be deprecated in future releases.\n",
      "  df['Authors'], df['Article_Name'] = df['Article_Name'].str.rsplit('.', 1).str\n"
     ]
    }
   ],
   "source": [
    "all_docx = [\"data/2022_satellite.docx\", \"data/2021_satellite.docx\"]\n",
    "# all_docx = [\"data/2020_satellite.docx\"]\n",
    "\n",
    "total_df = create_total_dataframe(all_docx)"
   ]
  },
  {
   "cell_type": "code",
   "execution_count": 4,
   "metadata": {},
   "outputs": [],
   "source": [
    "total_df['Processed_Text'] = total_df['Text'].apply(preprocess_text)"
   ]
  },
  {
   "cell_type": "code",
   "execution_count": 102,
   "metadata": {},
   "outputs": [],
   "source": [
    "# total_df.head()"
   ]
  },
  {
   "cell_type": "markdown",
   "metadata": {},
   "source": [
    "___"
   ]
  },
  {
   "cell_type": "code",
   "execution_count": 93,
   "metadata": {},
   "outputs": [],
   "source": [
    "# Input text:\n",
    "provided_text = \"This ability to process massive datasets ensures that issues and dependencies that would otherwise go unnoticed are captured during modeling and improve the quality of the proposed mitigation plan.\"\n",
    "provided_text = preprocess_text(provided_text)"
   ]
  },
  {
   "cell_type": "code",
   "execution_count": 97,
   "metadata": {},
   "outputs": [],
   "source": [
    "# Vectorize:\n",
    "vectorizer = TfidfVectorizer()\n",
    "# vectorizer = TfidfVectorizer(ngram_range=(2,3))\n",
    "\n",
    "corpus_tfidf = vectorizer.fit_transform(total_df['Processed_Text'])"
   ]
  },
  {
   "cell_type": "code",
   "execution_count": 98,
   "metadata": {},
   "outputs": [],
   "source": [
    "provided_text_tfidf = vectorizer.transform([provided_text])\n",
    "cosine_similarities = cosine_similarity(provided_text_tfidf, corpus_tfidf)"
   ]
  },
  {
   "cell_type": "code",
   "execution_count": 99,
   "metadata": {},
   "outputs": [
    {
     "name": "stdout",
     "output_type": "stream",
     "text": [
      "Document 'Possibilities of Project Management Using Artificial Intelligence' is similar with a score of 0.1618310281052039\n",
      "Document 'Specifics of Project Quality Management' is similar with a score of 0.14302117734687064\n"
     ]
    }
   ],
   "source": [
    "# Идентификация документов с высоким уровнем сходства\n",
    "threshold = 0.1\n",
    "\n",
    "for idx, similarity in enumerate(cosine_similarities[0]):\n",
    "    if similarity > threshold:\n",
    "        print(f\"Document '{total_df.iloc[idx]['Article_Name']}' is similar with a score of {similarity}\")"
   ]
  },
  {
   "cell_type": "code",
   "execution_count": 103,
   "metadata": {},
   "outputs": [
    {
     "data": {
      "text/html": [
       "<div>\n",
       "<style scoped>\n",
       "    .dataframe tbody tr th:only-of-type {\n",
       "        vertical-align: middle;\n",
       "    }\n",
       "\n",
       "    .dataframe tbody tr th {\n",
       "        vertical-align: top;\n",
       "    }\n",
       "\n",
       "    .dataframe thead th {\n",
       "        text-align: right;\n",
       "    }\n",
       "</style>\n",
       "<table border=\"1\" class=\"dataframe\">\n",
       "  <thead>\n",
       "    <tr style=\"text-align: right;\">\n",
       "      <th></th>\n",
       "      <th>Article_Name</th>\n",
       "      <th>Page</th>\n",
       "      <th>Authors</th>\n",
       "      <th>Text</th>\n",
       "      <th>Processed_Text</th>\n",
       "    </tr>\n",
       "  </thead>\n",
       "  <tbody>\n",
       "    <tr>\n",
       "      <th>7</th>\n",
       "      <td>Possibilities of Project Management Using Artificial Intelligence</td>\n",
       "      <td>30</td>\n",
       "      <td>Chyzhenko V., Kubiavka L.</td>\n",
       "      <td>Abstracts. The world is currently undergoing many changes as technology continues to evolve to improve people's lives. Technological progress has made things that seemed impossible in the last decade a part of modern life. All industries are using technology to improve efficiency and effectiveness while making management reliable, secure and interoperable. The integration of human capabilities and technological systems increases productivity and ensures continuous improvement. The combination of technology and human capabilities is also used for project management. Keywords: technological processes, artificial intelligence, project management, automation, integration of human capabilities and technical systems. Introduction. As the use of AI in organizations continues to grow and its benefits remain significant even during the COVID-19 pandemic, it is important for project managers to understand where AI can have the greatest impact. Better decision-making and more accurate forecasting of project completion dates. One of the constant tasks of project management is the collection of sufficiently accurate and up-to-date information for making informed decisions. The ability of artificial intelligence to process huge data sets in real-time and changing organizational mindsets can help bridge this gap and facilitate the decision-making process. The ability to connect different types of information and find problems that people would otherwise have missed can be a real turning point for project management. AI has the potential to detect (in real-time) anomalies in datasets and alert managers to project changes (schedule, budget, timelines, project funding...) that could have a significant impact on the project. Ideally, an AI system automatically outputs data critical to project success, making it easier for senior management to make the right decisions [1]. AI can help contextualize data by providing more information than traditional systems provide, linking data to information from other parts of the system, adding meaning to that particular set of data (often related to context: constraints, requirements, etc.). Artificial intelligence and contextual data can play a key role in filling the knowledge gaps and reducing the uncertainty associated with emerging markets, and enabling companies to deploy continuous real-time analytics for rapid decision-making. AI has the potential to detect new trends and indicate to the project manager when a new variable may affect how projects unfold (for example, if a new type of delay appears). This will allow the project manager to stay abreast of the latest data that affects the project's schedule, budget, or schedule [2]. Automation of routine administrative tasks. Active AI assistance or AI virtual assistants are playing an increasing role in eliminating repetitive lower-level tasks, freeing project managers from routine tasks such as meeting scheduling, reminders, daily updates, report preparation, data entry and collection, error detection, and other tasks. By saving time with artificial intelligence in the project management process, project managers can focus on complex higher-level activities that are more important to them, such as planning and customer engagement. In addition to performing the mundane tasks of a project manager, such as an administrator, AI technologies can automate repetitive decision-making processes. Better perception of information and identification of risks. Thanks to its computing power, AI is able to quickly run multiple scenarios and assess the risks of future projects. Unlike current tools that need to be pointed in the right direction, a deep learning algorithm can potentially identify potential risks without being asked. This ability to process massive datasets ensures that issues and dependencies that would otherwise go unnoticed are captured during modeling and improve the quality of the proposed mitigation plan. And it can repeat the calculation when new updated data arrives. The main areas where artificial intelligence systems offer the greatest potential for project risk management are: creation of more accurate cost and time forecasts using empirical data, thus reducing costs and time overruns in portfolios; early identification of problems in projects (with the help of data analytics, project managers can accurately determine which of their projects have the greatest risk of over-execution and under-execution, and therefore determine the actions that will have the greatest impact on problematic projects); developing more effective mitigation plans and finding better solutions for risk management that have been implemented; improvement of adaptation and training [3]. Resource management and capacity planning. Artificial intelligence systems enable project managers to better execute future projects through more efficient allocation of resources. As a result, organizations can anticipate needs and adapt schedules accordingly. The ideal AI system will assist project managers with capacity planning strategies that consider all relevant aspects of the project, including manpower, facilities, schedules, budgets and supplies. A byproduct of this advanced planning is a happier workforce as tasks are delegated based on past performance and overall capacity employee AI can help improve the processes used to manage people, including: calculation of the best distribution of resources and forecasting the deficit or surplus of resources; determination of the right skills for the right job; providing feedback on the implementation of the project; determination of special training for a specific employee; increasing the productivity of capital (reducing obstacles for employees can have a significant impact on the company's efficiency) [4]. With artificial intelligence as a complement to humans, design decisions will be based on a larger set of data and with greater computing power. This will broaden the project manager's view of the entire project landscape and allow him to react more quickly and offer better solutions to the changing business environment. Although AI will obviously have a major impact on project management, artificial intelligence is not human. Human skills such as empathy, emotional intelligence, negotiation, decision-making and human resource management will be valued in the near future—perhaps more than ever.</td>\n",
       "      <td>abstract world current undergo mani chang technolog continu evolv improv peopl live technolog progress made thing seem imposs last decad part modern life industri use technolog improv effici effect make manag reliabl secur interoper integr human capabl technolog system increas product ensur continu improv combin technolog human capabl also use project manag technolog process artifici intellig project manag autom integr human capabl technic system introduct use ai organ continu grow benefit remain signific even covid pandem import project manag understand ai greatest impact better decis make accur forecast project complet date one constant task project manag collect suffici accur date inform make inform decis abil artifici intellig process huge data set real time chang organiz mindset help bridg gap facilit decis make process abil connect differ type inform find problem peopl would otherwis miss real turn point project manag ai potenti detect real time anomali dataset alert manag project chang schedul budget timelin project fund could signific impact project ideal ai system automat output data critic project success make easier senior manag make right decis ai help contextu data provid inform tradit system provid link data inform part system ad mean particular set data often relat context constraint requir etc artifici intellig contextu data play key role fill knowledg gap reduc uncertainti associ emerg market enabl compani deploy continu real time analyt rapid decis make ai potenti detect new trend indic project manag new variabl may affect project unfold exampl new type delay appear allow project manag stay abreast latest data affect project schedul budget schedul autom routin administr task activ ai assist ai virtual assist play increas role elimin repetit lower level task free project manag routin task meet schedul remind daili updat report prepar data entri collect error detect task save time artifici intellig project manag process project manag focu complex higher level activ import plan custom engag addit perform mundan task project manag administr ai technolog autom repetit decis make process better percept inform identif risk thank comput power ai abl quickli run multipl scenario assess risk futur project unlik current tool need point right direct deep learn algorithm potenti identifi potenti risk without ask abil process massiv dataset ensur issu depend would otherwis go unnot captur model improv qualiti propos mitig plan repeat calcul new updat data arriv main area artifici intellig system offer greatest potenti project risk manag creation accur cost time forecast use empir data thu reduc cost time overrun portfolio earli identif problem project help data analyt project manag accur determin project greatest risk execut execut therefor determin action greatest impact problemat project develop effect mitig plan find better solut risk manag implement improv adapt train resourc manag capac plan artifici intellig system enabl project manag better execut futur project effici alloc resourc result organ anticip need adapt schedul accordingli ideal ai system assist project manag capac plan strategi consid relev aspect project includ manpow facil schedul budget suppli byproduct advanc plan happier workforc task deleg base past perform overal capac employe ai help improv process use manag peopl includ calcul best distribut resourc forecast deficit surplu resourc determin right skill right job provid feedback implement project determin special train specif employe increas product capit reduc obstacl employe signific impact compani effici artifici intellig complement human design decis base larger set data greater comput power broaden project manag view entir project landscap allow react quickli offer better solut chang busi environ although ai obvious major impact project manag artifici intellig human human skill empathi emot intellig negoti decis make human resourc manag valu near futur perhap ever</td>\n",
       "    </tr>\n",
       "  </tbody>\n",
       "</table>\n",
       "</div>"
      ],
      "text/plain": [
       "                                                        Article_Name Page  \\\n",
       "7  Possibilities of Project Management Using Artificial Intelligence   30   \n",
       "\n",
       "                     Authors  \\\n",
       "7  Chyzhenko V., Kubiavka L.   \n",
       "\n",
       "                                                                                                                                                                                                                                                                                                                                                                                                                                                                                                                                                                                                                                                                                                                                                                                                                                                                                                                                                                                                                                                                                                                                                                                                                                                                                                                                                                                                                                                                                                                                                                                                                                                                                                                                                                                                                                                                                                                                                                                                                                                                                                                                                                                                                                                                                                                                                                                                                                                                                                                                                                                                                                                                                                                                                                                                                                                                                                                                                                                                                                                                                                                                                                                                                                                                                                                                                                                                                                                                                                                                                                                                                                                                                                                                                                                                                                                                                                                                                                                                                                                                                                                                                                                                                                                                                                                                                                                                                                                                                                                                                                                                                                                                                                                                                                                                                                                                                                                                                                                                                                                                                                                                                                                                                                                                                                                                                                                                                                                                                                                                                                                                                                                                                                                                                                                                                                                                                                                                                                                                                                                                                                                                                                                                                                                                                                                                                                                                                                                                                                                                                                                                                                                                            Text  \\\n",
       "7   Abstracts. The world is currently undergoing many changes as technology continues to evolve to improve people's lives. Technological progress has made things that seemed impossible in the last decade a part of modern life. All industries are using technology to improve efficiency and effectiveness while making management reliable, secure and interoperable. The integration of human capabilities and technological systems increases productivity and ensures continuous improvement. The combination of technology and human capabilities is also used for project management. Keywords: technological processes, artificial intelligence, project management, automation, integration of human capabilities and technical systems. Introduction. As the use of AI in organizations continues to grow and its benefits remain significant even during the COVID-19 pandemic, it is important for project managers to understand where AI can have the greatest impact. Better decision-making and more accurate forecasting of project completion dates. One of the constant tasks of project management is the collection of sufficiently accurate and up-to-date information for making informed decisions. The ability of artificial intelligence to process huge data sets in real-time and changing organizational mindsets can help bridge this gap and facilitate the decision-making process. The ability to connect different types of information and find problems that people would otherwise have missed can be a real turning point for project management. AI has the potential to detect (in real-time) anomalies in datasets and alert managers to project changes (schedule, budget, timelines, project funding...) that could have a significant impact on the project. Ideally, an AI system automatically outputs data critical to project success, making it easier for senior management to make the right decisions [1]. AI can help contextualize data by providing more information than traditional systems provide, linking data to information from other parts of the system, adding meaning to that particular set of data (often related to context: constraints, requirements, etc.). Artificial intelligence and contextual data can play a key role in filling the knowledge gaps and reducing the uncertainty associated with emerging markets, and enabling companies to deploy continuous real-time analytics for rapid decision-making. AI has the potential to detect new trends and indicate to the project manager when a new variable may affect how projects unfold (for example, if a new type of delay appears). This will allow the project manager to stay abreast of the latest data that affects the project's schedule, budget, or schedule [2]. Automation of routine administrative tasks. Active AI assistance or AI virtual assistants are playing an increasing role in eliminating repetitive lower-level tasks, freeing project managers from routine tasks such as meeting scheduling, reminders, daily updates, report preparation, data entry and collection, error detection, and other tasks. By saving time with artificial intelligence in the project management process, project managers can focus on complex higher-level activities that are more important to them, such as planning and customer engagement. In addition to performing the mundane tasks of a project manager, such as an administrator, AI technologies can automate repetitive decision-making processes. Better perception of information and identification of risks. Thanks to its computing power, AI is able to quickly run multiple scenarios and assess the risks of future projects. Unlike current tools that need to be pointed in the right direction, a deep learning algorithm can potentially identify potential risks without being asked. This ability to process massive datasets ensures that issues and dependencies that would otherwise go unnoticed are captured during modeling and improve the quality of the proposed mitigation plan. And it can repeat the calculation when new updated data arrives. The main areas where artificial intelligence systems offer the greatest potential for project risk management are: creation of more accurate cost and time forecasts using empirical data, thus reducing costs and time overruns in portfolios; early identification of problems in projects (with the help of data analytics, project managers can accurately determine which of their projects have the greatest risk of over-execution and under-execution, and therefore determine the actions that will have the greatest impact on problematic projects); developing more effective mitigation plans and finding better solutions for risk management that have been implemented; improvement of adaptation and training [3]. Resource management and capacity planning. Artificial intelligence systems enable project managers to better execute future projects through more efficient allocation of resources. As a result, organizations can anticipate needs and adapt schedules accordingly. The ideal AI system will assist project managers with capacity planning strategies that consider all relevant aspects of the project, including manpower, facilities, schedules, budgets and supplies. A byproduct of this advanced planning is a happier workforce as tasks are delegated based on past performance and overall capacity employee AI can help improve the processes used to manage people, including: calculation of the best distribution of resources and forecasting the deficit or surplus of resources; determination of the right skills for the right job; providing feedback on the implementation of the project; determination of special training for a specific employee; increasing the productivity of capital (reducing obstacles for employees can have a significant impact on the company's efficiency) [4]. With artificial intelligence as a complement to humans, design decisions will be based on a larger set of data and with greater computing power. This will broaden the project manager's view of the entire project landscape and allow him to react more quickly and offer better solutions to the changing business environment. Although AI will obviously have a major impact on project management, artificial intelligence is not human. Human skills such as empathy, emotional intelligence, negotiation, decision-making and human resource management will be valued in the near future—perhaps more than ever.    \n",
       "\n",
       "                                                                                                                                                                                                                                                                                                                                                                                                                                                                                                                                                                                                                                                                                                                                                                                                                                                                                                                                                                                                                                                                                                                                                                                                                                                                                                                                                                                                                                                                                                                                                                                                                                                                                                                                                                                                                                                                                                                                                                                                                                                                                                                                                                                                                                                                                                                                                                                                                                                                                                                                                                                                                                                                                                                                                                                                                                                                                                                                                                                                                                                                                                                                                                                                                                                                                                                                                                                                                                                                                                                                                                                                                                                                                                                                                                                                                                                                                                                                                                                                                                                                                                                       Processed_Text  \n",
       "7  abstract world current undergo mani chang technolog continu evolv improv peopl live technolog progress made thing seem imposs last decad part modern life industri use technolog improv effici effect make manag reliabl secur interoper integr human capabl technolog system increas product ensur continu improv combin technolog human capabl also use project manag technolog process artifici intellig project manag autom integr human capabl technic system introduct use ai organ continu grow benefit remain signific even covid pandem import project manag understand ai greatest impact better decis make accur forecast project complet date one constant task project manag collect suffici accur date inform make inform decis abil artifici intellig process huge data set real time chang organiz mindset help bridg gap facilit decis make process abil connect differ type inform find problem peopl would otherwis miss real turn point project manag ai potenti detect real time anomali dataset alert manag project chang schedul budget timelin project fund could signific impact project ideal ai system automat output data critic project success make easier senior manag make right decis ai help contextu data provid inform tradit system provid link data inform part system ad mean particular set data often relat context constraint requir etc artifici intellig contextu data play key role fill knowledg gap reduc uncertainti associ emerg market enabl compani deploy continu real time analyt rapid decis make ai potenti detect new trend indic project manag new variabl may affect project unfold exampl new type delay appear allow project manag stay abreast latest data affect project schedul budget schedul autom routin administr task activ ai assist ai virtual assist play increas role elimin repetit lower level task free project manag routin task meet schedul remind daili updat report prepar data entri collect error detect task save time artifici intellig project manag process project manag focu complex higher level activ import plan custom engag addit perform mundan task project manag administr ai technolog autom repetit decis make process better percept inform identif risk thank comput power ai abl quickli run multipl scenario assess risk futur project unlik current tool need point right direct deep learn algorithm potenti identifi potenti risk without ask abil process massiv dataset ensur issu depend would otherwis go unnot captur model improv qualiti propos mitig plan repeat calcul new updat data arriv main area artifici intellig system offer greatest potenti project risk manag creation accur cost time forecast use empir data thu reduc cost time overrun portfolio earli identif problem project help data analyt project manag accur determin project greatest risk execut execut therefor determin action greatest impact problemat project develop effect mitig plan find better solut risk manag implement improv adapt train resourc manag capac plan artifici intellig system enabl project manag better execut futur project effici alloc resourc result organ anticip need adapt schedul accordingli ideal ai system assist project manag capac plan strategi consid relev aspect project includ manpow facil schedul budget suppli byproduct advanc plan happier workforc task deleg base past perform overal capac employe ai help improv process use manag peopl includ calcul best distribut resourc forecast deficit surplu resourc determin right skill right job provid feedback implement project determin special train specif employe increas product capit reduc obstacl employe signific impact compani effici artifici intellig complement human design decis base larger set data greater comput power broaden project manag view entir project landscap allow react quickli offer better solut chang busi environ although ai obvious major impact project manag artifici intellig human human skill empathi emot intellig negoti decis make human resourc manag valu near futur perhap ever  "
      ]
     },
     "execution_count": 103,
     "metadata": {},
     "output_type": "execute_result"
    }
   ],
   "source": [
    "total_df[total_df['Article_Name'] == 'Possibilities of Project Management Using Artificial Intelligence']"
   ]
  },
  {
   "cell_type": "code",
   "execution_count": null,
   "metadata": {},
   "outputs": [],
   "source": []
  }
 ],
 "metadata": {
  "kernelspec": {
   "display_name": "jupyter_venv",
   "language": "python",
   "name": "jupyter_venv"
  },
  "language_info": {
   "codemirror_mode": {
    "name": "ipython",
    "version": 3
   },
   "file_extension": ".py",
   "mimetype": "text/x-python",
   "name": "python",
   "nbconvert_exporter": "python",
   "pygments_lexer": "ipython3",
   "version": "3.9.7"
  }
 },
 "nbformat": 4,
 "nbformat_minor": 2
}
